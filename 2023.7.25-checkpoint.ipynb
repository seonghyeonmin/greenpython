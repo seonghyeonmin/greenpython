{
 "cells": [
  {
   "cell_type": "code",
   "execution_count": 1,
   "id": "7735d295",
   "metadata": {},
   "outputs": [
    {
     "name": "stdout",
     "output_type": "stream",
     "text": [
      "1\n",
      "2\n",
      "3\n",
      "4\n",
      "5\n"
     ]
    }
   ],
   "source": [
    "#반복문\n",
    "\n",
    "num = 1\n",
    "\n",
    "while num <= 5:\n",
    "    print(num)\n",
    "    num += 1"
   ]
  },
  {
   "cell_type": "code",
   "execution_count": 6,
   "id": "c911da2f",
   "metadata": {},
   "outputs": [],
   "source": [
    "def setName(str):\n",
    "    return str"
   ]
  },
  {
   "cell_type": "code",
   "execution_count": 7,
   "id": "3c6ce97c",
   "metadata": {
    "scrolled": true
   },
   "outputs": [
    {
     "name": "stdout",
     "output_type": "stream",
     "text": [
      "홍길동\n"
     ]
    }
   ],
   "source": [
    "name = setName(\"홍길동\")\n",
    "print(name)"
   ]
  },
  {
   "cell_type": "code",
   "execution_count": 8,
   "id": "99bd7ffc",
   "metadata": {},
   "outputs": [
    {
     "name": "stdout",
     "output_type": "stream",
     "text": [
      "김철수\n"
     ]
    }
   ],
   "source": [
    "def setName(str):\n",
    "    return str;\n",
    "\n",
    "name = setName(\"김철수\")\n",
    "print(name)"
   ]
  },
  {
   "cell_type": "code",
   "execution_count": 9,
   "id": "615222c5",
   "metadata": {},
   "outputs": [],
   "source": [
    "def sum(num1, num2):\n",
    "    return num1 + num2"
   ]
  },
  {
   "cell_type": "code",
   "execution_count": 10,
   "id": "7f1d97b0",
   "metadata": {},
   "outputs": [
    {
     "name": "stdout",
     "output_type": "stream",
     "text": [
      "35\n"
     ]
    }
   ],
   "source": [
    "result = sum(20, 15)\n",
    "print(result)"
   ]
  },
  {
   "cell_type": "code",
   "execution_count": 12,
   "id": "361797f8",
   "metadata": {},
   "outputs": [],
   "source": [
    "def setName():\n",
    "    str = input(\"이름 입력: \")\n",
    "    return str;"
   ]
  },
  {
   "cell_type": "code",
   "execution_count": 13,
   "id": "f22101e5",
   "metadata": {},
   "outputs": [
    {
     "name": "stdout",
     "output_type": "stream",
     "text": [
      "이름 입력: 이몽룡\n",
      "이몽룡\n"
     ]
    }
   ],
   "source": [
    "name = setName()\n",
    "print(name)"
   ]
  },
  {
   "cell_type": "code",
   "execution_count": 14,
   "id": "bce729ba",
   "metadata": {},
   "outputs": [],
   "source": [
    "def setName():\n",
    "    names = []\n",
    "    for element in range(0,3):\n",
    "        str = input(\"이름 입력: \")\n",
    "        names.append(str)\n",
    "    return names;"
   ]
  },
  {
   "cell_type": "code",
   "execution_count": 15,
   "id": "f1968371",
   "metadata": {},
   "outputs": [
    {
     "name": "stdout",
     "output_type": "stream",
     "text": [
      "이름 입력: 이몽룡\n",
      "이름 입력: 홍길동\n",
      "이름 입력: 임꺽정\n",
      "['이몽룡', '홍길동', '임꺽정']\n"
     ]
    }
   ],
   "source": [
    "name = setName()\n",
    "print(name)"
   ]
  },
  {
   "cell_type": "code",
   "execution_count": 18,
   "id": "de0931e5",
   "metadata": {},
   "outputs": [],
   "source": [
    "def addItem():\n",
    "    name = input(\"상품이름 : \")\n",
    "    sizeX = input(\"넓이 : \")\n",
    "    sizeY = input(\"폭 : \")\n",
    "    sizeZ = input(\"높이 : \")\n",
    "    location = input(\"위치\")\n",
    "    price = input(\"가격 :\")\n",
    "    return (name, [sizeX, sizeY, sizeZ], location, price)"
   ]
  },
  {
   "cell_type": "code",
   "execution_count": 19,
   "id": "e350bf75",
   "metadata": {},
   "outputs": [
    {
     "name": "stdout",
     "output_type": "stream",
     "text": [
      "상품이름 : 파이썬 자동화 프로그래밍\n",
      "넓이 : 21cm\n",
      "폭 : 3cm\n",
      "높이 : 29.7cm\n",
      "위치H-3열\n",
      "가격 :18500원\n",
      "('파이썬 자동화 프로그래밍', ['21cm', '3cm', '29.7cm'], 'H-3열', '18500원')\n"
     ]
    }
   ],
   "source": [
    "tuple = addItem()\n",
    "print(tuple)"
   ]
  },
  {
   "cell_type": "code",
   "execution_count": null,
   "id": "8b288572",
   "metadata": {},
   "outputs": [],
   "source": []
  }
 ],
 "metadata": {
  "kernelspec": {
   "display_name": "Python 3 (ipykernel)",
   "language": "python",
   "name": "python3"
  },
  "language_info": {
   "codemirror_mode": {
    "name": "ipython",
    "version": 3
   },
   "file_extension": ".py",
   "mimetype": "text/x-python",
   "name": "python",
   "nbconvert_exporter": "python",
   "pygments_lexer": "ipython3",
   "version": "3.10.9"
  }
 },
 "nbformat": 4,
 "nbformat_minor": 5
}
