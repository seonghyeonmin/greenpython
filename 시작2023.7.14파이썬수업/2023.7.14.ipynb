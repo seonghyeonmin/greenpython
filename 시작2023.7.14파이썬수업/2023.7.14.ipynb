{
 "cells": [
  {
   "cell_type": "code",
   "execution_count": 8,
   "id": "33ac4dc1",
   "metadata": {
    "scrolled": true
   },
   "outputs": [
    {
     "name": "stdout",
     "output_type": "stream",
     "text": [
      "이름을 입력하세요: John Smith\n",
      "안녕하세요, 저는 John Smith 입니다. \n"
     ]
    }
   ],
   "source": [
    "name = input(\"이름을 입력하세요: \")\n",
    "greeting = \"안녕하세요, 저는 \" + name + \" 입니다. \"\n",
    "print(greeting)"
   ]
  },
  {
   "cell_type": "code",
   "execution_count": null,
   "id": "b2612429",
   "metadata": {},
   "outputs": [],
   "source": [
    "# 두 정수의 합 구하기\n",
    "\n",
    "# 두 개의 정수를 변수에 저장합니다.\n",
    "num1 = 5\n",
    "num2 = 3\n",
    "\n",
    "# 두 정수를 더하여 결과를 저장하는 변수를 만듭니다.\n",
    "sum_result = num1 + num2\n",
    "\n",
    "# 결과를 출력합니다.\n",
    "print(\"두 정수의 합:\", sum_result)"
   ]
  },
  {
   "cell_type": "code",
   "execution_count": null,
   "id": "bca38adf",
   "metadata": {},
   "outputs": [],
   "source": [
    "'A', 'B ', 'C'\n",
    "\n",
    "\"Hello world!\"\n",
    "\n",
    "#\"{\"KEY\" : \"VALUE\"}\"\n",
    "#미완성이야... 하다가 까먹음\n",
    "\n",
    "#단일 줄 주석\n",
    "'''\n",
    "여러 줄에 걸친 주석\n",
    "문자열1\n",
    "문자열2\n",
    "'''"
   ]
  },
  {
   "cell_type": "code",
   "execution_count": null,
   "id": "3d6226ce",
   "metadata": {},
   "outputs": [],
   "source": [
    "#예제 1\n",
    "\n",
    "result = True\n",
    "print(result)\n",
    "\n",
    "result = False\n",
    "print(result)\n",
    "\n",
    "#예제 2\n",
    "\n",
    "# 두 개의 정수를 입력받아 변수에 저장합니다.\n",
    "num1 = int(input(\"첫 번째 정수를 입력하세요: \"))\n",
    "num2 = int(input(\"두 번째 정수를 입력하세요: \"))\n",
    "\n",
    "# 서로의 값을 비교하여 True & False 를 반환 합니다.\n",
    "print(num1 < num2)"
   ]
  },
  {
   "cell_type": "code",
   "execution_count": null,
   "id": "60581441",
   "metadata": {
    "scrolled": true
   },
   "outputs": [],
   "source": [
    "# 예제 1\n",
    "\n",
    "# List를 생성 합니다.\n",
    "# 리스트는 대괄호로 초기값을 셋팅 합니다.\n",
    "numbers = []\n",
    "\n",
    "# 몃번의 입력을 받을지 정합니다.\n",
    "numbers.append(input(\"첫 번째 정수를 입력하세요: \"))\n",
    "numbers.append(input(\"두 번째 정수를 입력하세요: \"))\n",
    "numbers.append(input(\"세 번째 정수를 입력하세요: \"))\n",
    "\n",
    "# 결과를 확인 합니다.  \n",
    "print(numbers)"
   ]
  },
  {
   "cell_type": "code",
   "execution_count": 24,
   "id": "d3ff0f80",
   "metadata": {},
   "outputs": [
    {
     "name": "stdout",
     "output_type": "stream",
     "text": [
      "[10, '홍길동', 3.141592, 20, '임꺽정', 2.56, 30, '이몽룡']\n",
      "[10, '홍길동', 3.141592, 20, '임꺽정', 2.56, 30, '이몽룡', '성춘향']\n",
      "[10, '홍길동', 3.141592, 20, '임꺽정', 2.56, 30, '이몽룡', '성춘향', 1, 2, 3, 4, 5]\n",
      "[10, '홍길동', 3.141592, 20, '임꺽정', '김철수', 2.56, 30, '이몽룡', '성춘향', 1, 2, 3, 4, 5]\n",
      "[10, '홍길동', 3.141592, 20, '임꺽정', '김철수', 2.56, 30, '이몽룡', 1, 2, 3, 4, 5]\n",
      "[10, '홍길동', 3.141592, 20, '임꺽정', 2.56, 30, '이몽룡', 1, '김철수', 2, 3, 4, 5]\n",
      "20\n"
     ]
    }
   ],
   "source": [
    "#[] list 리스트\n",
    "#{} dictionary 딕셔너리\n",
    "#() tuple 튜플\n",
    "\n",
    "# 리스트\n",
    "list = [10,\"홍길동\",3.141592, 20, \"임꺽정\", 2.56, 30, \"이몽룡\"]\n",
    "aaa = []\n",
    "print(list)\n",
    "\n",
    "#리스트 항목에 새로운 값 추가\n",
    "list.append(\"성춘향\")\n",
    "print(list)\n",
    "\n",
    "#다른 iterable(예: 리스트, 튜플)의 모든 항목을 리스트에 추가\n",
    "list.extend((1,2,3, 4, 5))\n",
    "print(list)\n",
    "\n",
    "#지정한 인덱스 위치에  항목 삽입\n",
    "#list.insert(index, value)\n",
    "list.insert(5, \"김철수\")\n",
    "print(list)\n",
    "\n",
    "#리스트에서 포함된 특정 항목을 찾아 제거\n",
    "list.remove(\"성춘향\")\n",
    "print(list)\n",
    "#중복된 값이 있을 경우 왼쪽부터 삭제\n",
    "list.insert(10, \"김철수\")\n",
    "list.remove(\"김철수\")\n",
    "print(list)\n",
    "\n",
    "# 지정한 인덱스 위치의 항목을 제거하고 반환.\n",
    "pop = list.pop(3)\n",
    "print(pop)\n",
    "# 20\n",
    "#리스트 인덱스는 0부터 시작함. 배열 주소 생각하면 될듯."
   ]
  },
  {
   "cell_type": "code",
   "execution_count": null,
   "id": "d477e824",
   "metadata": {},
   "outputs": [],
   "source": []
  }
 ],
 "metadata": {
  "kernelspec": {
   "display_name": "Python 3 (ipykernel)",
   "language": "python",
   "name": "python3"
  },
  "language_info": {
   "codemirror_mode": {
    "name": "ipython",
    "version": 3
   },
   "file_extension": ".py",
   "mimetype": "text/x-python",
   "name": "python",
   "nbconvert_exporter": "python",
   "pygments_lexer": "ipython3",
   "version": "3.10.9"
  }
 },
 "nbformat": 4,
 "nbformat_minor": 5
}
