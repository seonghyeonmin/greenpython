{
 "cells": [
  {
   "cell_type": "code",
   "execution_count": 1,
   "id": "2897af56",
   "metadata": {},
   "outputs": [
    {
     "name": "stdout",
     "output_type": "stream",
     "text": [
      "이름을 입력하세요: 홍길동\n",
      "안녕하세요, 저는 홍길동 입니다. \n"
     ]
    }
   ],
   "source": [
    "name = input(\"이름을 입력하세요: \")\n",
    "greeting = \"안녕하세요, 저는 \" + name + \" 입니다. \"\n",
    "print(greeting)"
   ]
  },
  {
   "cell_type": "code",
   "execution_count": 3,
   "id": "9fa661cc",
   "metadata": {},
   "outputs": [
    {
     "name": "stdout",
     "output_type": "stream",
     "text": [
      "두 정수의 합: 8\n"
     ]
    }
   ],
   "source": [
    "# 두 정수의 합 구하기\n",
    "\n",
    "# 두 개의 정수를 변수에 저장합니다.\n",
    "num1 = 5\n",
    "num2 = 3\n",
    "\n",
    "# 두 정수를 더하여 결과를 저장하는 변수를 만듭니다.\n",
    "sum_result = num1 + num2\n",
    "\n",
    "# 결과를 출력합니다.\n",
    "print(\"두 정수의 합:\", sum_result)"
   ]
  },
  {
   "cell_type": "code",
   "execution_count": 5,
   "id": "54b31ec7",
   "metadata": {},
   "outputs": [
    {
     "data": {
      "text/plain": [
       "('A', 'B ', 'C')"
      ]
     },
     "execution_count": 5,
     "metadata": {},
     "output_type": "execute_result"
    }
   ],
   "source": [
    "'A', 'B ', 'C'"
   ]
  },
  {
   "cell_type": "code",
   "execution_count": 6,
   "id": "5db96124",
   "metadata": {},
   "outputs": [
    {
     "data": {
      "text/plain": [
       "'Hello world!'"
      ]
     },
     "execution_count": 6,
     "metadata": {},
     "output_type": "execute_result"
    }
   ],
   "source": [
    "\"Hello world!\""
   ]
  },
  {
   "cell_type": "code",
   "execution_count": null,
   "id": "2fe09f66",
   "metadata": {},
   "outputs": [],
   "source": [
    "\"{\"KEY\" : \"VALUE\"}\""
   ]
  },
  {
   "cell_type": "code",
   "execution_count": null,
   "id": "a61a8fd2",
   "metadata": {},
   "outputs": [],
   "source": [
    "#단일 줄 주석\n",
    "'''\n",
    "여러 줄에 걸친 주석\n",
    "문자열1\n",
    "문자열2\n",
    "'''"
   ]
  },
  {
   "cell_type": "code",
   "execution_count": 7,
   "id": "2b2e17f9",
   "metadata": {},
   "outputs": [
    {
     "name": "stdout",
     "output_type": "stream",
     "text": [
      "True\n",
      "False\n"
     ]
    }
   ],
   "source": [
    "#예제 1\n",
    "\n",
    "result = True\n",
    "print(result)\n",
    "\n",
    "result = False\n",
    "print(result)"
   ]
  },
  {
   "cell_type": "code",
   "execution_count": 8,
   "id": "60615b3e",
   "metadata": {},
   "outputs": [
    {
     "name": "stdout",
     "output_type": "stream",
     "text": [
      "첫 번째 정수를 입력하세요: 10\n",
      "두 번째 정수를 입력하세요: 20\n",
      "True\n"
     ]
    }
   ],
   "source": [
    "#예제 2\n",
    "\n",
    "# 두 개의 정수를 입력받아 변수에 저장합니다.\n",
    "num1 = int(input(\"첫 번째 정수를 입력하세요: \"))\n",
    "num2 = int(input(\"두 번째 정수를 입력하세요: \"))\n",
    "\n",
    "# 서로의 값을 비교하여 True & False 를 반환 합니다.\n",
    "print(num1 < num2)"
   ]
  },
  {
   "cell_type": "code",
   "execution_count": null,
   "id": "74ffc46f",
   "metadata": {},
   "outputs": [],
   "source": []
  }
 ],
 "metadata": {
  "kernelspec": {
   "display_name": "Python 3 (ipykernel)",
   "language": "python",
   "name": "python3"
  },
  "language_info": {
   "codemirror_mode": {
    "name": "ipython",
    "version": 3
   },
   "file_extension": ".py",
   "mimetype": "text/x-python",
   "name": "python",
   "nbconvert_exporter": "python",
   "pygments_lexer": "ipython3",
   "version": "3.10.9"
  }
 },
 "nbformat": 4,
 "nbformat_minor": 5
}
