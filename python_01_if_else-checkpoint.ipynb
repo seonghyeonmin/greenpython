{
 "cells": [
  {
   "cell_type": "code",
   "execution_count": 1,
   "id": "3f46c983",
   "metadata": {},
   "outputs": [
    {
     "name": "stdout",
     "output_type": "stream",
     "text": [
      "어서오세요.\n",
      "상품이름 입력 :A\n",
      "상품이 판매 되었습니다.\n"
     ]
    }
   ],
   "source": [
    "max_count = 115\n",
    "min_count = 10\n",
    "\n",
    "dict = {\"A\":2, \"B\":3, \"C\":4, \"D\":0}\n",
    "#dict ={}\n",
    "\n",
    "#30일 이후\n",
    "#상품리스트\n",
    "\n",
    "print(\"어서오세요.\")\n",
    "\n",
    "if 0 < len(dict):\n",
    "    item = input(\"상품이름 입력 :\")\n",
    "    A = dict.get(item)\n",
    "    if A != None:\n",
    "        if 0 < dict[item]:\n",
    "            dict[item] -= 1\n",
    "            print(\"상품이 판매 되었습니다.\")\n",
    "        else:\n",
    "            print(\"상품 재고가 없습니다.\")\n",
    "    else :\n",
    "        print(item + \"상품이 없습니다.\")\n",
    "else:\n",
    "    print(\"매진입니다.\")\n",
    "\n",
    "\n",
    "\n",
    "#dict[\"A\"] -= 1\n",
    "#print(dict.get(\"A\"))"
   ]
  },
  {
   "cell_type": "code",
   "execution_count": null,
   "id": "56ea48d7",
   "metadata": {},
   "outputs": [],
   "source": [
    "max_count = 115\n",
    "min_count = 10\n",
    "\n",
    "#for i in range(10, 115+1):\n",
    "for i in range(min_count, max_count + 1):\n",
    "    if (i%2) == 0:\n",
    "        print(str(i) + \" : 짝수\")\n",
    "    else:\n",
    "        print(str(i) + \" : 홀수\")\n",
    "\n"
   ]
  }
 ],
 "metadata": {
  "kernelspec": {
   "display_name": "Python 3 (ipykernel)",
   "language": "python",
   "name": "python3"
  },
  "language_info": {
   "codemirror_mode": {
    "name": "ipython",
    "version": 3
   },
   "file_extension": ".py",
   "mimetype": "text/x-python",
   "name": "python",
   "nbconvert_exporter": "python",
   "pygments_lexer": "ipython3",
   "version": "3.10.9"
  }
 },
 "nbformat": 4,
 "nbformat_minor": 5
}
