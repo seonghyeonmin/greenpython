{
 "cells": [
  {
   "cell_type": "code",
   "execution_count": 1,
   "id": "8bc0bd27",
   "metadata": {},
   "outputs": [
    {
     "name": "stdout",
     "output_type": "stream",
     "text": [
      "어서오세요.\n",
      "상품이름 입력 :A\n",
      "상품이 판매 되었습니다.\n"
     ]
    }
   ],
   "source": [
    "max_count = 115\n",
    "min_count = 10\n",
    "\n",
    "dict = {\"A\":2, \"B\":3, \"C\":4, \"D\":0}\n",
    "#dict ={}\n",
    "\n",
    "#30일 이후\n",
    "#상품리스트\n",
    "\n",
    "print(\"어서오세요.\")\n",
    "\n",
    "if 0 < len(dict):\n",
    "    item = input(\"상품이름 입력 :\")\n",
    "    A = dict.get(item)\n",
    "    if A != None:\n",
    "        if 0 < dict[item]:\n",
    "            dict[item] -= 1\n",
    "            print(\"상품이 판매 되었습니다.\")\n",
    "        else:\n",
    "            print(\"상품 재고가 없습니다.\")\n",
    "    else :\n",
    "        print(item + \"상품이 없습니다.\")\n",
    "else:\n",
    "    print(\"매진입니다.\")\n",
    "\n",
    "\n",
    "\n",
    "#dict[\"A\"] -= 1\n",
    "#print(dict.get(\"A\"))"
   ]
  },
  {
   "cell_type": "code",
   "execution_count": 4,
   "id": "ce6c9373",
   "metadata": {},
   "outputs": [
    {
     "name": "stdout",
     "output_type": "stream",
     "text": [
      "10 : 짝수\n",
      "11 : 홀수\n",
      "출력 끝\n"
     ]
    }
   ],
   "source": [
    "#반복문과 조건문 실습\n",
    "\n",
    "#max_count = 115\n",
    "min_count = 10\n",
    "max_count = 11\n",
    "\n",
    "#for i in range(10, 115+1):\n",
    "for i in range(min_count, max_count + 1):\n",
    "    if (i%2) == 0:\n",
    "        print(str(i) + \" : 짝수\")\n",
    "    else:\n",
    "        print(str(i) + \" : 홀수\")\n",
    "print(\"출력 끝\")\n"
   ]
  },
  {
   "cell_type": "code",
   "execution_count": null,
   "id": "058b4160",
   "metadata": {},
   "outputs": [],
   "source": [
    "# \"//\"연산 사용처\n",
    "#리스트에 임의의 값을 저장할 때 그 값의 리스트 상에서의 위치 계산\n",
    "# 예시\n",
    "# 5 * 7 배열이 있다고 할 때 해당 배열에서의 위치값이 (55,38)인 항목의 리스트 상에서의 순서\n",
    "# 55//10 + 7*(38//10) = 26번 항목에 위치(0번부터 항목이 시작되므로 실제 순서는 27번째)"
   ]
  },
  {
   "cell_type": "code",
   "execution_count": 11,
   "id": "aa0b435f",
   "metadata": {},
   "outputs": [
    {
     "name": "stdout",
     "output_type": "stream",
     "text": [
      "참\n"
     ]
    }
   ],
   "source": [
    "#논리연산자 실습\n",
    "\n",
    "max_count = 115\n",
    "min_count = 10\n",
    "\n",
    "if not False:\n",
    "    print(\"참\")"
   ]
  },
  {
   "cell_type": "code",
   "execution_count": 19,
   "id": "b511f9be",
   "metadata": {},
   "outputs": [
    {
     "name": "stdout",
     "output_type": "stream",
     "text": [
      "13\n",
      "10\n"
     ]
    }
   ],
   "source": [
    "#비트연산자\n",
    "\n",
    "#1=00000001\n",
    "#2=0000010\n",
    "#3=0000011\n",
    "#4=0000100\n",
    "\n",
    "#2의 n승인 숫자의 2진법은 전체 자릿수에서 1이 하나밖에 없다.\n",
    "#XOR 연산은 두 입력값이 서로 다르면 참, 같으면 거짓. AND연산의 출력값이 반대고 두 입력값이 0인 경우만 1이 출력되는 예외.\n",
    "\n",
    "#비트연산자를 통해 두 변수의 값을 서로 교환할 때 별도의 공간을 할당하지 않고도 교환 가능\n",
    "\n",
    "num1 = 10  # 1010\n",
    "num2 = 7   # 0111\n",
    "\n",
    "#result = num1 ^ num2  # 1101\n",
    "#print(result) \n",
    "\n",
    "num1 = num1 ^ num2\n",
    "num2 = num1 ^ num2\n",
    "num1 = num1 ^ num2\n",
    "\n",
    "print(num1)\n",
    "print(num2)\n",
    "\n",
    "#구글에 백준 검색 문제 많다. 연습에 도움 많이 된다?"
   ]
  },
  {
   "cell_type": "code",
   "execution_count": null,
   "id": "9c63e95a",
   "metadata": {},
   "outputs": [],
   "source": []
  }
 ],
 "metadata": {
  "kernelspec": {
   "display_name": "Python 3 (ipykernel)",
   "language": "python",
   "name": "python3"
  },
  "language_info": {
   "codemirror_mode": {
    "name": "ipython",
    "version": 3
   },
   "file_extension": ".py",
   "mimetype": "text/x-python",
   "name": "python",
   "nbconvert_exporter": "python",
   "pygments_lexer": "ipython3",
   "version": "3.10.9"
  }
 },
 "nbformat": 4,
 "nbformat_minor": 5
}
