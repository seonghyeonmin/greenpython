{
 "cells": [
  {
   "cell_type": "code",
   "execution_count": 2,
   "id": "0d5eab4f",
   "metadata": {},
   "outputs": [
    {
     "name": "stdout",
     "output_type": "stream",
     "text": [
      "키를 입력하세요 (cm): 100\n",
      "키가 작아서 놀이공원에 입장할 수 없습니다.\n"
     ]
    }
   ],
   "source": [
    "## 예제 1\n",
    "\n",
    "height = int(input(\"키를 입력하세요 (cm): \"))\n",
    "\n",
    "if height >= 120:\n",
    "    print(\"놀이공원에 입장할 수 있습니다!\")\n",
    "else:\n",
    "    print(\"키가 작아서 놀이공원에 입장할 수 없습니다.\")"
   ]
  },
  {
   "cell_type": "code",
   "execution_count": 8,
   "id": "e01bef5d",
   "metadata": {},
   "outputs": [
    {
     "name": "stdout",
     "output_type": "stream",
     "text": [
      "시험 점수를 입력하세요: 123\n",
      "학점은 A 입니다.\n"
     ]
    }
   ],
   "source": [
    "# 예제 2\n",
    "\n",
    "score = int(input(\"시험 점수를 입력하세요: \"))\n",
    "\n",
    "if score >= 90:\n",
    "    grade = \"A\"\n",
    "elif score >= 80:\n",
    "    grade = \"B\"\n",
    "elif score >= 70:\n",
    "    grade = \"C\"\n",
    "elif  score >= 60:\n",
    "    grade = \"D\"\n",
    "else:\n",
    "    grade = \"F\"\n",
    "\n",
    "print(\"학점은\", grade, \"입니다.\")"
   ]
  },
  {
   "cell_type": "code",
   "execution_count": 9,
   "id": "e040b6e8",
   "metadata": {},
   "outputs": [
    {
     "name": "stdout",
     "output_type": "stream",
     "text": [
      "오늘 날씨는 어때요? (맑음/흐림/비/눈): 눈\n",
      "오늘은 눈 이니까 두꺼운 옷과 장화 를 입으세요!\n"
     ]
    }
   ],
   "source": [
    "# 예제 3\n",
    "\n",
    "weather = input(\"오늘 날씨는 어때요? (맑음/흐림/비/눈): \")\n",
    "\n",
    "if weather == \"맑음\":\n",
    "    outfit = \"반팔과 반바지\"\n",
    "elif weather == \"흐림\" or weather == \"비\":\n",
    "    outfit = \"긴팔과 바지\"\n",
    "elif weather == \"눈\":\n",
    "    outfit = \"두꺼운 옷과 장화\"\n",
    "else:\n",
    "    outfit = \"올바른 날씨 정보를 입력하세요.\"\n",
    "\n",
    "print(\"오늘은\", weather, \"이니까\", outfit, \"를 입으세요!\")"
   ]
  },
  {
   "cell_type": "code",
   "execution_count": 10,
   "id": "de23b992",
   "metadata": {
    "scrolled": true
   },
   "outputs": [
    {
     "name": "stdout",
     "output_type": "stream",
     "text": [
      "숫자를 입력하세요: 1234\n",
      "입력한 숫자는 짝수입니다.\n"
     ]
    }
   ],
   "source": [
    "# 예제 4\n",
    "\n",
    "number = int(input(\"숫자를 입력하세요: \"))\n",
    "\n",
    "if number % 2 == 0:\n",
    "    print(\"입력한 숫자는 짝수입니다.\")\n",
    "else:\n",
    "    print(\"입력한 숫자는 홀수입니다.\")"
   ]
  },
  {
   "cell_type": "code",
   "execution_count": 21,
   "id": "e5798c34",
   "metadata": {
    "scrolled": true
   },
   "outputs": [
    {
     "name": "stdout",
     "output_type": "stream",
     "text": [
      "length : 10\n",
      "output 1\n",
      "output 2\n",
      "output 3\n",
      "output 4\n",
      "output 5\n",
      "output 6\n",
      "output 7\n",
      "output 8\n",
      "output 9\n",
      "output 10\n",
      "sum 10\n",
      "sum 9\n",
      "sum 8\n",
      "sum 7\n",
      "sum 6\n",
      "sum 5\n",
      "sum 4\n",
      "sum 3\n",
      "sum 2\n",
      "sum 1\n"
     ]
    }
   ],
   "source": [
    "numbers = [1,2,3,4,5,6,7,8,9,10]\n",
    "\n",
    "print(\"length :\",len(numbers))\n",
    "\n",
    "for num in range(0, len(numbers)):\n",
    "    print(\"output\",numbers[num])\n",
    "\n",
    "for num in range(0, len(numbers)):\n",
    "    print(\"sum\",len(numbers) - num)"
   ]
  },
  {
   "cell_type": "code",
   "execution_count": null,
   "id": "779e1991",
   "metadata": {},
   "outputs": [],
   "source": []
  }
 ],
 "metadata": {
  "kernelspec": {
   "display_name": "Python 3 (ipykernel)",
   "language": "python",
   "name": "python3"
  },
  "language_info": {
   "codemirror_mode": {
    "name": "ipython",
    "version": 3
   },
   "file_extension": ".py",
   "mimetype": "text/x-python",
   "name": "python",
   "nbconvert_exporter": "python",
   "pygments_lexer": "ipython3",
   "version": "3.10.9"
  }
 },
 "nbformat": 4,
 "nbformat_minor": 5
}
