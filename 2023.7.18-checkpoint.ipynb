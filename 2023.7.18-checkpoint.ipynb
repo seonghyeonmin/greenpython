{
 "cells": [
  {
   "cell_type": "code",
   "execution_count": 2,
   "id": "b013a7ca",
   "metadata": {},
   "outputs": [
    {
     "name": "stdout",
     "output_type": "stream",
     "text": [
      "키를 입력하세요 (cm): 100\n",
      "키가 작아서 놀이공원에 입장할 수 없습니다.\n"
     ]
    }
   ],
   "source": [
    "## 예제 1\n",
    "\n",
    "height = int(input(\"키를 입력하세요 (cm): \"))\n",
    "\n",
    "if height >= 120:\n",
    "    print(\"놀이공원에 입장할 수 있습니다!\")\n",
    "else:\n",
    "    print(\"키가 작아서 놀이공원에 입장할 수 없습니다.\")"
   ]
  },
  {
   "cell_type": "code",
   "execution_count": 6,
   "id": "2992c573",
   "metadata": {},
   "outputs": [
    {
     "name": "stdout",
     "output_type": "stream",
     "text": [
      "시험 점수를 입력하세요: 200\n",
      "올바르지 않은 입력입니다.\n",
      "학점은 B 입니다.\n"
     ]
    }
   ],
   "source": [
    "## 예제 2\n",
    "\n",
    "score = int(input(\"시험 점수를 입력하세요: \"))\n",
    "\n",
    "if score >= 90:\n",
    "    grade = \"A\"\n",
    "elif score >= 80:\n",
    "    grade = \"B\"\n",
    "elif score >= 70:\n",
    "    grade = \"C\"\n",
    "elif  score >= 60:\n",
    "    grade = \"D\"\n",
    "else:\n",
    "    grade = \"F\"\n",
    "\n",
    "print(\"학점은\", grade, \"입니다.\")"
   ]
  },
  {
   "cell_type": "code",
   "execution_count": null,
   "id": "2eaef90d",
   "metadata": {},
   "outputs": [],
   "source": []
  }
 ],
 "metadata": {
  "kernelspec": {
   "display_name": "Python 3 (ipykernel)",
   "language": "python",
   "name": "python3"
  },
  "language_info": {
   "codemirror_mode": {
    "name": "ipython",
    "version": 3
   },
   "file_extension": ".py",
   "mimetype": "text/x-python",
   "name": "python",
   "nbconvert_exporter": "python",
   "pygments_lexer": "ipython3",
   "version": "3.10.9"
  }
 },
 "nbformat": 4,
 "nbformat_minor": 5
}
