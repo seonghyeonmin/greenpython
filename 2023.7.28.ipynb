{
 "cells": [
  {
   "cell_type": "code",
   "execution_count": 9,
   "id": "19f722c4",
   "metadata": {},
   "outputs": [],
   "source": [
    "with open('myfile.txt', 'w') as file:\n",
    "    file.write(\"홍길동\\n\")"
   ]
  },
  {
   "cell_type": "code",
   "execution_count": 10,
   "id": "7d6515ff",
   "metadata": {},
   "outputs": [],
   "source": [
    "with open('myfile.txt', 'a') as file:\n",
    "    file.write(\"\\nMore content.\")"
   ]
  },
  {
   "cell_type": "code",
   "execution_count": 11,
   "id": "92b67108",
   "metadata": {},
   "outputs": [
    {
     "name": "stdout",
     "output_type": "stream",
     "text": [
      "홍길동\n",
      "\n",
      "More content.\n"
     ]
    }
   ],
   "source": [
    "with open('myfile.txt', 'r') as file:\n",
    "    content = file.read()\n",
    "print(content)"
   ]
  },
  {
   "cell_type": "code",
   "execution_count": 17,
   "id": "4829513d",
   "metadata": {},
   "outputs": [
    {
     "name": "stdout",
     "output_type": "stream",
     "text": [
      "Hello, World!\n",
      "추가된 내용\n",
      "\n"
     ]
    }
   ],
   "source": [
    "import os\n",
    "\n",
    "# 확인용\n",
    "count = 0\n",
    "\n",
    "# 디렉토리 경로\n",
    "dir_path = \"../path/to/directory\"\n",
    "#dir_path = \"../data\"\n",
    "\n",
    "# 디렉토리가 없는 경우 디렉토리 생성\n",
    "os.makedirs(dir_path, exist_ok=True)\n",
    "\n",
    "# 파일 이름\n",
    "file_name = \"myfile.txt\"\n",
    "\n",
    "# 파일 경로\n",
    "file_path = os.path.join(dir_path, file_name)\n",
    "\n",
    "# 파일에 쓰기\n",
    "with open(file_path, 'w') as file:\n",
    "    file.write(\"Hello, World!\\n\")\n",
    "\n",
    "# 파일에 내용 추가\n",
    "with open(file_path, 'a') as file:\n",
    "    file.write(\"추가된 내용\\n\")\n",
    "\n",
    "# 파일 읽기\n",
    "with open(file_path, 'r') as file:\n",
    "    content = file.read()\n",
    "    \n",
    "print(content)"
   ]
  },
  {
   "cell_type": "code",
   "execution_count": 49,
   "id": "25aad4ed",
   "metadata": {},
   "outputs": [
    {
     "name": "stdout",
     "output_type": "stream",
     "text": [
      "[1, 2, 3, 4, 5, 6, 7, 8, 9, 10, 11, 12, 13, 14, 15, 16, 17, 18, 19, 20, 21, 22, 23, 24, 25, 26, 27, 28, 29, 30, 31, 32, 33, 34, 35, 36, 37, 38, 39, 40, 41, 42, 43, 44, 45]\n",
      "\n",
      "\n",
      "[4, 8, 9, 15, 22, 39]\n",
      "[2, 6, 13, 17, 31, 35]\n",
      "[2, 6, 27, 31, 35, 39]\n",
      "[5, 7, 10, 21, 24, 32]\n",
      "[2, 6, 8, 30, 31, 45]\n",
      "32\n"
     ]
    }
   ],
   "source": [
    "import random\n",
    "\n",
    "#최대 개수\n",
    "MAX = 6\n",
    "\n",
    "#리스트를 초기화 한 뒤 값을 넘겨준다.\n",
    "numbers = list(range(1,46))\n",
    "print(numbers)\n",
    "\n",
    "print(\"\\n\")\n",
    "\n",
    "\n",
    "\n",
    "\n",
    "\n",
    "for i in range(1,6):\n",
    "    #로또 번호 리스트\n",
    "    selected_numbers = []\n",
    "    \n",
    "    #난수 생성 : selected _numbers < MAX\n",
    "    while len(selected_numbers) <MAX:\n",
    "        \n",
    "        #난수 생성\n",
    "        #num = int(random() % 45) + 1\n",
    "        num = int(random.randrange(1,46))\n",
    "        count += 1\n",
    "        \n",
    "        #생성된 난수가 리스트에 포함되어있는지 확인\n",
    "        if num not in selected_numbers:\n",
    "            #포함되지 않았다면 추가\n",
    "            selected_numbers.append(num)\n",
    "            \n",
    "    #6개 숫자가 모두 추가되었다면 정렬(오름차순)\n",
    "    selected_numbers.sort()\n",
    "    \n",
    "    #출력\n",
    "    print(selected_numbers)\n",
    "    \n",
    "#for에서 총 5번을 실행\n",
    "print(count)\n",
    "count = 0"
   ]
  },
  {
   "cell_type": "code",
   "execution_count": 51,
   "id": "61c102d5",
   "metadata": {},
   "outputs": [
    {
     "name": "stdout",
     "output_type": "stream",
     "text": [
      "Requirement already satisfied: requests in c:\\users\\ggg\\anaconda3\\lib\\site-packages (2.28.1)\n",
      "Requirement already satisfied: idna<4,>=2.5 in c:\\users\\ggg\\anaconda3\\lib\\site-packages (from requests) (3.4)\n",
      "Requirement already satisfied: charset-normalizer<3,>=2 in c:\\users\\ggg\\anaconda3\\lib\\site-packages (from requests) (2.0.4)\n",
      "Requirement already satisfied: certifi>=2017.4.17 in c:\\users\\ggg\\anaconda3\\lib\\site-packages (from requests) (2022.12.7)\n",
      "Requirement already satisfied: urllib3<1.27,>=1.21.1 in c:\\users\\ggg\\anaconda3\\lib\\site-packages (from requests) (1.26.14)\n",
      "Note: you may need to restart the kernel to use updated packages.\n"
     ]
    }
   ],
   "source": [
    "#파이썬과 웹을 연결하기 위한 라이브러리 설치\n",
    "pip install requests"
   ]
  },
  {
   "cell_type": "code",
   "execution_count": 52,
   "id": "abd9218f",
   "metadata": {},
   "outputs": [
    {
     "name": "stdout",
     "output_type": "stream",
     "text": [
      "Requirement already satisfied: beautifulsoup4 in c:\\users\\ggg\\anaconda3\\lib\\site-packages (4.11.1)\n",
      "Requirement already satisfied: soupsieve>1.2 in c:\\users\\ggg\\anaconda3\\lib\\site-packages (from beautifulsoup4) (2.3.2.post1)\n",
      "Note: you may need to restart the kernel to use updated packages.\n"
     ]
    }
   ],
   "source": [
    "#html, css 코드에서 원하는 값을 추출해 주는 라이브러리\n",
    "pip install beautifulsoup4"
   ]
  },
  {
   "cell_type": "code",
   "execution_count": 1,
   "id": "701c3c6c",
   "metadata": {
    "scrolled": true
   },
   "outputs": [
    {
     "ename": "SyntaxError",
     "evalue": "invalid syntax (1454622272.py, line 2)",
     "output_type": "error",
     "traceback": [
      "\u001b[1;36m  Cell \u001b[1;32mIn[1], line 2\u001b[1;36m\u001b[0m\n\u001b[1;33m    pip install --upgrade pip\u001b[0m\n\u001b[1;37m        ^\u001b[0m\n\u001b[1;31mSyntaxError\u001b[0m\u001b[1;31m:\u001b[0m invalid syntax\n"
     ]
    }
   ],
   "source": [
    "#위 라이브러리가 설치 되지 않는다면 pip 업그레이드가 필요\n",
    "pip install --upgrade pip"
   ]
  },
  {
   "cell_type": "code",
   "execution_count": 59,
   "id": "3d4e8902",
   "metadata": {},
   "outputs": [
    {
     "ename": "NameError",
     "evalue": "name 'pip' is not defined",
     "output_type": "error",
     "traceback": [
      "\u001b[1;31m---------------------------------------------------------------------------\u001b[0m",
      "\u001b[1;31mNameError\u001b[0m                                 Traceback (most recent call last)",
      "Cell \u001b[1;32mIn[59], line 2\u001b[0m\n\u001b[0;32m      1\u001b[0m \u001b[38;5;66;03m# 버전 확인\u001b[39;00m\n\u001b[1;32m----> 2\u001b[0m \u001b[43mpip\u001b[49m \u001b[38;5;241m-\u001b[39m\u001b[38;5;241m-\u001b[39mversion\n",
      "\u001b[1;31mNameError\u001b[0m: name 'pip' is not defined"
     ]
    }
   ],
   "source": [
    "# 버전 확인\n",
    "pip --version"
   ]
  },
  {
   "cell_type": "code",
   "execution_count": 60,
   "id": "9b9955a4",
   "metadata": {},
   "outputs": [
    {
     "name": "stdout",
     "output_type": "stream",
     "text": [
      "Requirement already satisfied: numpy in c:\\users\\ggg\\anaconda3\\lib\\site-packages (1.23.5)\n",
      "Note: you may need to restart the kernel to use updated packages.\n"
     ]
    }
   ],
   "source": [
    "pip install numpy"
   ]
  },
  {
   "cell_type": "code",
   "execution_count": 9,
   "id": "c6a3be90",
   "metadata": {
    "scrolled": true
   },
   "outputs": [
    {
     "name": "stdout",
     "output_type": "stream",
     "text": [
      "<div class=\"nums\">\n",
      "<div class=\"num win\">\n",
      "<strong>당첨번호</strong>\n",
      "<p>\n",
      "<span class=\"ball_645 lrg ball1\">10</span>\n",
      "<span class=\"ball_645 lrg ball3\">23</span>\n",
      "<span class=\"ball_645 lrg ball3\">29</span>\n",
      "<span class=\"ball_645 lrg ball4\">33</span>\n",
      "<span class=\"ball_645 lrg ball4\">37</span>\n",
      "<span class=\"ball_645 lrg ball4\">40</span>\n",
      "</p>\n",
      "</div>\n",
      "<div class=\"num bonus\">\n",
      "<strong>보너스</strong>\n",
      "<p><span class=\"ball_645 lrg ball2\">16</span></p>\n",
      "</div>\n",
      "</div>\n"
     ]
    }
   ],
   "source": [
    "import requests\n",
    "from bs4 import BeautifulSoup\n",
    "import numpy\n",
    "\n",
    "count = 1\n",
    "\n",
    "url = f\"https://www.dhlottery.co.kr/gameResult.do?method=byWin&drwNo={count}\"\n",
    "response = requests.get(url)\n",
    "\n",
    "#print(response.text)\n",
    "\n",
    "parser = BeautifulSoup(response.text, 'html.parser')\n",
    "\n",
    "#print(parser)\n",
    "\n",
    "nums = parser.find('div', {'class': 'nums'})\n",
    "print(nums)"
   ]
  },
  {
   "cell_type": "code",
   "execution_count": null,
   "id": "8bbf55d6",
   "metadata": {},
   "outputs": [],
   "source": []
  }
 ],
 "metadata": {
  "kernelspec": {
   "display_name": "Python 3 (ipykernel)",
   "language": "python",
   "name": "python3"
  },
  "language_info": {
   "codemirror_mode": {
    "name": "ipython",
    "version": 3
   },
   "file_extension": ".py",
   "mimetype": "text/x-python",
   "name": "python",
   "nbconvert_exporter": "python",
   "pygments_lexer": "ipython3",
   "version": "3.10.9"
  }
 },
 "nbformat": 4,
 "nbformat_minor": 5
}
